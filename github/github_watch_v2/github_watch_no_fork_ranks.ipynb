{
 "cells": [
  {
   "cell_type": "code",
   "execution_count": 61,
   "metadata": {
    "collapsed": true
   },
   "outputs": [],
   "source": [
    "from pymongo import MongoClient\n",
    "import pprint as pp\n",
    "import datetime as dt\n",
    "import matplotlib.pyplot as plt\n",
    "import numpy as np\n",
    "from collections import defaultdict\n",
    "import os"
   ]
  },
  {
   "cell_type": "code",
   "execution_count": 46,
   "metadata": {
    "collapsed": false
   },
   "outputs": [],
   "source": [
    "def convert_to_date(year, day_of_the_year):\n",
    "    '''\n",
    "    parameters:\n",
    "    -----------\n",
    "    year: Integer\n",
    "    day_of_the_year: an integer ranging from 1 to 366\n",
    "    \n",
    "    returns:\n",
    "    --------\n",
    "    a python date object the indicates the date\n",
    "    '''\n",
    "    return dt.datetime(year, 1, 1) + dt.timedelta(day_of_the_year - 1)"
   ]
  },
  {
   "cell_type": "code",
   "execution_count": 47,
   "metadata": {
    "collapsed": false
   },
   "outputs": [],
   "source": [
    "client = MongoClient(\"mongodb://localhost:27017/\")\n",
    "db = client.github_watch\n",
    "gt_watch = db.gt_watch_no_fork\n",
    "\n",
    "lowDate = dt.datetime(2012,4,1)\n",
    "highDate = dt.datetime(2014,12,31)"
   ]
  },
  {
   "cell_type": "code",
   "execution_count": 48,
   "metadata": {
    "collapsed": false
   },
   "outputs": [
    {
     "name": "stdout",
     "output_type": "stream",
     "text": [
      "{u'_id': ObjectId('5856a9350355e82f7dbcd676'),\n",
      " u'created_at': datetime.datetime(2012, 4, 1, 19, 56, 59),\n",
      " u'repository_name': u'X',\n",
      " u'repository_watchers': 39.0}\n"
     ]
    }
   ],
   "source": [
    "doc = gt_watch.find_one()\n",
    "pp.pprint(doc)"
   ]
  },
  {
   "cell_type": "code",
   "execution_count": 49,
   "metadata": {
    "collapsed": true
   },
   "outputs": [],
   "source": [
    "pipeline_watch = [{\"$match\":{\"created_at\":{\"$gt\":lowDate,\"$lt\":highDate},\"repository_name\":{\"$exists\":True}}},\\\n",
    "            {\"$group\":{\"_id\":{\"project\":\"$repository_name\",\"year\":{\"$year\":\"$created_at\"},\"month\":{\"$month\":\"$created_at\"},\"date\":{\"$dayOfYear\":\"$created_at\"}},\"cnt\":{\"$sum\":1}}},\\\n",
    "            {\"$sort\":{\"cnt\":-1}},\\\n",
    "            {\"$sort\":{\"_id.date\":1}},\\\n",
    "            {\"$sort\":{\"_id.year\":1}}]#,\\\n",
    "            # {\"$limit\":5000}]"
   ]
  },
  {
   "cell_type": "code",
   "execution_count": 50,
   "metadata": {
    "collapsed": true
   },
   "outputs": [],
   "source": [
    "results = gt_watch.aggregate(pipeline_watch, allowDiskUse=True)"
   ]
  },
  {
   "cell_type": "code",
   "execution_count": 51,
   "metadata": {
    "collapsed": true
   },
   "outputs": [],
   "source": [
    "runningWeek = 0\n",
    "last_day = dt.datetime(1998,1,1)\n",
    "all_date_list = list()\n",
    "rankList = list()\n",
    "currentRankList = list()"
   ]
  },
  {
   "cell_type": "code",
   "execution_count": null,
   "metadata": {
    "collapsed": false
   },
   "outputs": [],
   "source": [
    "for result in results:\n",
    "    ## Create a 2d list, each row contains project in descending order\n",
    "    ## of their rank based on how many emails they sent or received\n",
    "    day_current_document = result[\"_id\"][\"date\"]\n",
    "    year_current_document = result[\"_id\"][\"year\"]\n",
    "    current_last_day = convert_to_date(year_current_document, day_current_document)\n",
    "    \n",
    "    if current_last_day > last_day:\n",
    "        runningWeek += 1\n",
    "        print \"running day \", runningWeek\n",
    "        rankList.append(currentRankList)\n",
    "        last_day = current_last_day\n",
    "        currentRankList = list()\n",
    "        currentRankList.append([result[\"_id\"]['project'], str(result[\"cnt\"])])\n",
    "        all_date_list.append(current_last_day)\n",
    "    else:\n",
    "        currentRankList.append([result[\"_id\"]['project'], str(result[\"cnt\"])])\n",
    "    #pp.pprint(result)\n"
   ]
  },
  {
   "cell_type": "code",
   "execution_count": 58,
   "metadata": {
    "collapsed": false
   },
   "outputs": [
    {
     "data": {
      "text/plain": [
       "1003"
      ]
     },
     "execution_count": 58,
     "metadata": {},
     "output_type": "execute_result"
    }
   ],
   "source": [
    "len(rankList)"
   ]
  },
  {
   "cell_type": "code",
   "execution_count": 59,
   "metadata": {
    "collapsed": false
   },
   "outputs": [
    {
     "data": {
      "text/plain": [
       "1003"
      ]
     },
     "execution_count": 59,
     "metadata": {},
     "output_type": "execute_result"
    }
   ],
   "source": [
    "len(all_date_list)"
   ]
  },
  {
   "cell_type": "code",
   "execution_count": 56,
   "metadata": {
    "collapsed": false
   },
   "outputs": [
    {
     "data": {
      "text/plain": [
       "[]"
      ]
     },
     "execution_count": 56,
     "metadata": {},
     "output_type": "execute_result"
    }
   ],
   "source": [
    "rankList.pop(0)"
   ]
  },
  {
   "cell_type": "code",
   "execution_count": 57,
   "metadata": {
    "collapsed": false
   },
   "outputs": [
    {
     "data": {
      "text/plain": [
       "datetime.datetime(2014, 12, 30, 0, 0)"
      ]
     },
     "execution_count": 57,
     "metadata": {},
     "output_type": "execute_result"
    }
   ],
   "source": [
    "all_date_list.pop()"
   ]
  },
  {
   "cell_type": "code",
   "execution_count": 62,
   "metadata": {
    "collapsed": false
   },
   "outputs": [],
   "source": [
    "directory = \"data_rank_github_watch_no_fork_daily\"\n",
    "if not os.path.exists(directory):\n",
    "    os.makedirs(directory)"
   ]
  },
  {
   "cell_type": "code",
   "execution_count": 63,
   "metadata": {
    "collapsed": true
   },
   "outputs": [],
   "source": [
    "filename_all_dates = 'time_list_daily_github_watch_no_fork.txt'\n",
    "with open(filename_all_dates,'w') as f_date:\n",
    "    for i,date in enumerate(all_date_list):\n",
    "        current_date_string = date.strftime('%d.%m.%Y')\n",
    "        f_date.write(current_date_string + \"\\n\")\n",
    "        filename_rank_current_week = directory + \"/\" + current_date_string\n",
    "        with open(filename_rank_current_week, 'w') as f_weekly_rank:\n",
    "            for project_and_count in rankList[i]:\n",
    "                f_weekly_rank.write(\"\\t\".join(project_and_count)+\"\\n\")"
   ]
  },
  {
   "cell_type": "code",
   "execution_count": null,
   "metadata": {
    "collapsed": true
   },
   "outputs": [],
   "source": []
  }
 ],
 "metadata": {
  "anaconda-cloud": {},
  "kernelspec": {
   "display_name": "Python [conda root]",
   "language": "python",
   "name": "conda-root-py"
  },
  "language_info": {
   "codemirror_mode": {
    "name": "ipython",
    "version": 2
   },
   "file_extension": ".py",
   "mimetype": "text/x-python",
   "name": "python",
   "nbconvert_exporter": "python",
   "pygments_lexer": "ipython2",
   "version": "2.7.12"
  }
 },
 "nbformat": 4,
 "nbformat_minor": 1
}
